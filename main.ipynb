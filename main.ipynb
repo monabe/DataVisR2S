{
 "cells": [
  {
   "cell_type": "code",
   "execution_count": 1,
   "id": "0a8573d9-773f-440f-9529-ae57eff84de1",
   "metadata": {},
   "outputs": [
    {
     "name": "stdout",
     "output_type": "stream",
     "text": [
      "X values within 'Left Knee Angles' (Knee_Flexion_Trial1_LT):\n",
      "1.103913e+02\n",
      "1.077508e+02\n",
      "1.047965e+02\n",
      "1.015079e+02\n",
      "9.786809e+01\n",
      "9.386750e+01\n",
      "8.950514e+01\n",
      "8.478881e+01\n",
      "7.973732e+01\n",
      "7.438544e+01\n",
      "6.878969e+01\n",
      "6.303183e+01\n",
      "5.721677e+01\n",
      "5.146575e+01\n",
      "4.590814e+01\n",
      "4.067576e+01\n",
      "3.590005e+01\n",
      "3.170934e+01\n",
      "2.822289e+01\n",
      "2.554101e+01\n",
      "2.373606e+01\n",
      "2.284915e+01\n",
      "2.289314e+01\n",
      "2.385716e+01\n",
      "2.570689e+01\n",
      "2.837643e+01\n",
      "3.175614e+01\n",
      "3.568351e+01\n",
      "3.994054e+01\n",
      "4.426329e+01\n",
      "4.837526e+01\n",
      "5.204226e+01\n",
      "5.512120e+01\n",
      "5.757348e+01\n",
      "5.944387e+01\n",
      "6.082400e+01\n",
      "6.181988e+01\n",
      "6.253225e+01\n",
      "6.304634e+01\n",
      "6.342708e+01\n",
      "6.371727e+01\n",
      "6.393895e+01\n",
      "6.409653e+01\n",
      "6.418111e+01\n",
      "6.417484e+01\n",
      "6.405389e+01\n",
      "6.379059e+01\n",
      "6.335533e+01\n",
      "6.271754e+01\n",
      "6.184493e+01\n",
      "6.070240e+01\n",
      "5.925220e+01\n",
      "5.745632e+01\n",
      "5.527996e+01\n",
      "5.269613e+01\n",
      "4.969164e+01\n",
      "4.627481e+01\n",
      "4.248449e+01\n",
      "3.839855e+01\n",
      "3.414036e+01\n",
      "2.987996e+01\n",
      "2.582565e+01\n",
      "2.220154e+01\n",
      "1.921490e+01\n",
      "1.702469e+01\n",
      "1.572409e+01\n",
      "1.534232e+01\n",
      "1.586395e+01\n",
      "1.725479e+01\n",
      "1.947960e+01\n",
      "2.249916e+01\n",
      "2.624826e+01\n",
      "3.061028e+01\n",
      "3.540719e+01\n",
      "4.041682e+01\n",
      "4.540796e+01\n",
      "5.017036e+01\n",
      "5.452608e+01\n",
      "5.832953e+01\n",
      "6.147566e+01\n",
      "Number of data points in Knee_Flexion_Trial1_LT: 80\n"
     ]
    }
   ],
   "source": [
    "import xml.etree.ElementTree as ET\n",
    "\n",
    "# Specify the XML file path\n",
    "xml_file_path = r\"C:\\Users\\monab\\Documents\\GitHub\\DataVisR2S\\session_data.xml\"\n",
    "\n",
    "# Parse the XML file\n",
    "tree = ET.parse(xml_file_path)\n",
    "root = tree.getroot()\n",
    "\n",
    "# Find the desired element\n",
    "target_element = root.find(\".//owner[@value='Cutting Left 1.c3d']/type[@value='LINK_MODEL_BASED']/folder[@value='ORIGINAL']/name[@value='Left Knee Angles']\")\n",
    "\n",
    "# Extract the X component data\n",
    "x_data = target_element.find(\"./component[@value='X']\").attrib['data']\n",
    "\n",
    "# Split the data string into a list of values\n",
    "x_values = x_data.split(',')\n",
    "\n",
    "# Save the X values into a variable\n",
    "Knee_Flexion_Trial1_LT = x_values\n",
    "\n",
    "# Print the X values\n",
    "print(\"X values within 'Left Knee Angles' (Knee_Flexion_Trial1_LT):\")\n",
    "for value in x_values:\n",
    "    print(value)\n",
    "\n",
    "# Print the number of data points\n",
    "num_data_points = len(x_values)\n",
    "print(f\"Number of data points in Knee_Flexion_Trial1_LT: {num_data_points}\")\n"
   ]
  },
  {
   "cell_type": "code",
   "execution_count": 2,
   "id": "4278d90a-eed2-4520-a609-5778262e0c62",
   "metadata": {},
   "outputs": [
    {
     "name": "stdout",
     "output_type": "stream",
     "text": [
      "C:\\Users\\monab\n"
     ]
    }
   ],
   "source": [
    "import os\n",
    "print(os.getcwd())\n"
   ]
  },
  {
   "cell_type": "code",
   "execution_count": null,
   "id": "fa8a8c45-4ffc-4783-8968-f27de6181bfd",
   "metadata": {},
   "outputs": [],
   "source": []
  }
 ],
 "metadata": {
  "kernelspec": {
   "display_name": "Python 3 (ipykernel)",
   "language": "python",
   "name": "python3"
  },
  "language_info": {
   "codemirror_mode": {
    "name": "ipython",
    "version": 3
   },
   "file_extension": ".py",
   "mimetype": "text/x-python",
   "name": "python",
   "nbconvert_exporter": "python",
   "pygments_lexer": "ipython3",
   "version": "3.11.4"
  }
 },
 "nbformat": 4,
 "nbformat_minor": 5
}
